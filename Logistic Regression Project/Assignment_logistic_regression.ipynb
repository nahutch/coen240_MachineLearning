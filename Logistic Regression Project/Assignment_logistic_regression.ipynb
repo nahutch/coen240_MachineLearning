{
 "cells": [
  {
   "cell_type": "markdown",
   "metadata": {},
   "source": [
    "# Logistic Regression\n",
    "\n",
    "You will implement logistic regression classifier.\n",
    "\n",
    "Iris dataset with only 2 classes is provided to test the code.\n"
   ]
  },
  {
   "cell_type": "code",
   "execution_count": 1,
   "metadata": {},
   "outputs": [
    {
     "name": "stdout",
     "output_type": "stream",
     "text": [
      "   sepal_width  sepal_length  petal_width  petal_length  class\n",
      "0          5.6           3.0          4.1           1.3      0\n",
      "1          5.4           3.9          1.7           0.4      1\n",
      "2          5.6           3.0          4.5           1.5      0\n",
      "3          5.0           3.5          1.6           0.6      1\n",
      "4          5.5           2.4          3.7           1.0      0\n"
     ]
    }
   ],
   "source": [
    "import numpy as np\n",
    "import pandas as pd\n",
    "import numpy.matlib\n",
    "import math\n",
    "import matplotlib.pyplot as plt\n",
    "\n",
    "\n",
    "# read dataset\n",
    "df = pd.read_csv(\"shuffled_2class_iris_dataset.csv\")\n",
    "print(df.head())\n",
    "\n",
    "df = df.values\n",
    "X = df[:,0:4]   # 100x4\n",
    "y = df[:,4]     # 100x1\n"
   ]
  },
  {
   "cell_type": "code",
   "execution_count": 2,
   "metadata": {
    "scrolled": true
   },
   "outputs": [],
   "source": [
    "# Zero out the mean\n",
    "diff = X.max(0) - X.min(0)\n",
    "X = X - diff\n",
    "\n",
    "# Create 90/10 trainig/test sets\n",
    "tr_data = X[0:90,0:4]; tr_label = y[0:90]\n",
    "test_data = X[90:100,0:4]; test_label = y[90:100]\n",
    "np.random.seed(1)\n",
    "\n",
    "L = len(tr_data)\n",
    "\n",
    "#add bias:\n",
    "y = np.ones((L,1))\n",
    "z = np.ones((len(test_data),1))\n",
    "tr_data = np.concatenate((y,tr_data), axis = 1)\n",
    "test_data = np.concatenate((z,test_data), axis = 1)\n",
    "\n",
    "#tr_label = tr_label.reshape(len(tr_label), 1)\n",
    "#print(test_data)\n"
   ]
  },
  {
   "cell_type": "markdown",
   "metadata": {},
   "source": [
    "### Training"
   ]
  },
  {
   "cell_type": "code",
   "execution_count": 3,
   "metadata": {},
   "outputs": [
    {
     "name": "stdout",
     "output_type": "stream",
     "text": [
      "(1500,)\n"
     ]
    },
    {
     "data": {
      "image/png": "[encoded data removed]",
      "text/plain": [
       "<Figure size 432x288 with 1 Axes>"
      ]
     },
     "metadata": {},
     "output_type": "display_data"
    }
   ],
   "source": [
    "# Train the model using the training data\n",
    "\n",
    "# Use batch gradient descent to find the optimal weights of the sigmoid function\n",
    "# Experiment with different learning rates\n",
    "# Run it for 1500 iterations.  You may change the number of iterations as you see fit.\n",
    "\n",
    "\n",
    "# Initialization\n",
    "nu = 0.005\n",
    "MAX_ITR = 1500 \n",
    "J = []   # J is the cost function\n",
    "\n",
    "#initialize w0, w1, w2, w3, w4 randomly\n",
    "w = np.random.rand(5, 1)\n",
    "\n",
    "L = len(tr_data)\n",
    "\n",
    "\n",
    "#print(tr_data)\n",
    "#print(tr_label)\n",
    "\n",
    "\n",
    "# TO DO: complete the rest of initialization ...\n",
    "\n",
    "# Loop for 1500 iterations\n",
    "for itr in range (0, MAX_ITR):\n",
    "        \n",
    "    #2 steps to obtain sumation term:\n",
    "    #step 1: Get a 90x 1 array containing w^txi for each training data i \n",
    "    #step 2: Run through the each w^x temm and put it into the dJ/dw formula to obtain sumation for each w0,w1...w4.  \n",
    "    \n",
    "    #step 1:\n",
    "    W = np.matmul(tr_data, w)\n",
    "    #print(W)\n",
    "    \n",
    "    #step 2:\n",
    "    sigma0 = []\n",
    "    sigma1 = []\n",
    "    sigma2 = []\n",
    "    sigma3 = []\n",
    "    sigma4 = []\n",
    "    tempJ = []\n",
    "    \n",
    "    for i in range(0, L):\n",
    "        sigmoid = (1/(1+math.exp(-W[i])))\n",
    "        sigma0.append((sigmoid - tr_label[i]) * tr_data[i][0])\n",
    "        sigma1.append((sigmoid - tr_label[i]) * tr_data[i][1])\n",
    "        sigma2.append((sigmoid - tr_label[i]) * tr_data[i][2])\n",
    "        sigma3.append((sigmoid - tr_label[i]) * tr_data[i][3])\n",
    "        sigma4.append((sigmoid - tr_label[i]) * tr_data[i][4])\n",
    "        \n",
    "        #while in this loop, also obtain the each element of tsumation term for cost function using w^tx and add to list tempJ\n",
    "        tempJ.append(tr_label[i] * math.log(sigmoid) + (1 - tr_label[i]) * (math.log(1-sigmoid)))\n",
    "    \n",
    "    \n",
    "    # no need for temporary variable because the original w0, w1, w2, w3, w4\n",
    "    # have already been used to computed sigma term\n",
    "    w[0] = w[0] - (nu/L) * sum(sigma0)\n",
    "    w[1] = w[1] - (nu/L) * sum(sigma1)\n",
    "    w[2] = w[2] - (nu/L) * sum(sigma2)\n",
    "    w[3] = w[3] - (nu/L) * sum(sigma3)\n",
    "    w[4] = w[4] - (nu/L) * sum(sigma4)\n",
    "    \n",
    "\n",
    "\n",
    "    #sum the list of cost function terms, add to J\n",
    "    J.append(-1*sum(tempJ))\n",
    "\n",
    "\n",
    "# Plot cost function vs iterations\n",
    "print(np.shape(J))   # 1500x1\n",
    "plt.plot(J)\n",
    "plt.xlabel('Iterations')\n",
    "plt.ylabel('Error')\n",
    "plt.show()\n",
    "\n"
   ]
  },
  {
   "cell_type": "markdown",
   "metadata": {},
   "source": [
    "### Testing"
   ]
  },
  {
   "cell_type": "code",
   "execution_count": 4,
   "metadata": {},
   "outputs": [
    {
     "name": "stdout",
     "output_type": "stream",
     "text": [
      "y=1.0, y_hat=1\n",
      "y=1.0, y_hat=1\n",
      "y=0.0, y_hat=0\n",
      "y=1.0, y_hat=1\n",
      "y=0.0, y_hat=0\n",
      "y=1.0, y_hat=1\n",
      "y=0.0, y_hat=0\n",
      "y=0.0, y_hat=0\n",
      "y=0.0, y_hat=0\n",
      "y=1.0, y_hat=1\n",
      "Average accuracy = 1.000000\n"
     ]
    }
   ],
   "source": [
    "# Now use the test set to test the model\n",
    "\n",
    "# Print the actual and predicted class labels\n",
    "# Print the average accuracy\n",
    "\n",
    "#create an array W to contain each test datas w^tx for each x in test_data\n",
    "W = np.matmul(test_data, w)\n",
    "\n",
    "correct_class_cnt = 0\n",
    "for i in range (0, len(test_data)):\n",
    "    \n",
    "\n",
    "    # TO DO: provide each test data and optimal weights to sigmoid function\n",
    "    # TO DO: create predicted label based on threshold = 0.5\n",
    "\n",
    "    #create predicted label y_hat on threshold = 0.5\n",
    "    if ((1/(1+math.exp(-W[i]))) > .5):\n",
    "        y_hat = 1\n",
    "    else: \n",
    "        y_hat = 0\n",
    "        \n",
    "\n",
    "       \n",
    "    # Check accuracy\n",
    "    print('y={}, y_hat={}'.format(test_label[i], y_hat))\n",
    "    if (y_hat == test_label[i]):\n",
    "        correct_class_cnt += 1\n",
    "\n",
    "print('Average accuracy = {0:2f}'.format(correct_class_cnt/10))\n"
   ]
  },
  {
   "cell_type": "markdown",
   "metadata": {
    "collapsed": true
   },
   "source": [
    "Caution: accuracy may change drastically because of overfitting (data set too small)"
   ]
  },
  {
   "cell_type": "code",
   "execution_count": null,
   "metadata": {
    "collapsed": true
   },
   "outputs": [],
   "source": []
  }
 ],
 "metadata": {
  "anaconda-cloud": {},
  "kernelspec": {
   "display_name": "Python 3",
   "language": "python",
   "name": "python3"
  },
  "language_info": {
   "codemirror_mode": {
    "name": "ipython",
    "version": 3
   },
   "file_extension": ".py",
   "mimetype": "text/x-python",
   "name": "python",
   "nbconvert_exporter": "python",
   "pygments_lexer": "ipython3",
   "version": "3.6.6"
  }
 },
 "nbformat": 4,
 "nbformat_minor": 2
}
