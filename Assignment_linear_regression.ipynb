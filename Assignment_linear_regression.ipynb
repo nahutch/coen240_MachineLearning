{
 "cells": [
  {
   "cell_type": "markdown",
   "metadata": {},
   "source": [
    "# Linear Regression with Batch Gradient Descent\n",
    "\n",
    "You will train your model using a real world dataset.  The dataset contains a collection of real estate listings in San Luis Obispo county.\n",
    "\n",
    "https://wiki.csc.calpoly.edu/datasets/wiki/Houses\n",
    "\n",
    "To make it simpler for this assignment, the dataset has been slightly modified.  It contains the following fields:\n",
    "\n",
    "1.\tMLS: Multiple listing service number for the house (unique ID).\n",
    "2.\tPrice: the most recent listing price of the house (in dollars).\n",
    "3.\tBedrooms: number of bedrooms.\n",
    "4.\tBathrooms: number of bathrooms.\n",
    "5.\tSize: size of the house in square feet.\n",
    "6.\tPrice/SQ.ft: price of the house per square foot.\n",
    "\n",
    "The model predict the housing price given the square footage of the house.\n"
   ]
  },
  {
   "cell_type": "code",
   "execution_count": 2,
   "metadata": {},
   "outputs": [
    {
     "data": {
      "text/html": [
       "<div>\n",
       "<style scoped>\n",
       "    .dataframe tbody tr th:only-of-type {\n",
       "        vertical-align: middle;\n",
       "    }\n",
       "\n",
       "    .dataframe tbody tr th {\n",
       "        vertical-align: top;\n",
       "    }\n",
       "\n",
       "    .dataframe thead th {\n",
       "        text-align: right;\n",
       "    }\n",
       "</style>\n",
       "<table border=\"1\" class=\"dataframe\">\n",
       "  <thead>\n",
       "    <tr style=\"text-align: right;\">\n",
       "      <th></th>\n",
       "      <th>MPLS</th>\n",
       "      <th>Price</th>\n",
       "      <th>Bedrooms</th>\n",
       "      <th>Bathrooms</th>\n",
       "      <th>Size</th>\n",
       "      <th>PriceSq</th>\n",
       "    </tr>\n",
       "  </thead>\n",
       "  <tbody>\n",
       "    <tr>\n",
       "      <th>0</th>\n",
       "      <td>132842</td>\n",
       "      <td>795000</td>\n",
       "      <td>3</td>\n",
       "      <td>3</td>\n",
       "      <td>2371</td>\n",
       "      <td>335.30</td>\n",
       "    </tr>\n",
       "    <tr>\n",
       "      <th>1</th>\n",
       "      <td>134364</td>\n",
       "      <td>399000</td>\n",
       "      <td>4</td>\n",
       "      <td>3</td>\n",
       "      <td>2818</td>\n",
       "      <td>141.59</td>\n",
       "    </tr>\n",
       "    <tr>\n",
       "      <th>2</th>\n",
       "      <td>135141</td>\n",
       "      <td>545000</td>\n",
       "      <td>4</td>\n",
       "      <td>3</td>\n",
       "      <td>3032</td>\n",
       "      <td>179.75</td>\n",
       "    </tr>\n",
       "    <tr>\n",
       "      <th>3</th>\n",
       "      <td>135712</td>\n",
       "      <td>909000</td>\n",
       "      <td>4</td>\n",
       "      <td>4</td>\n",
       "      <td>3540</td>\n",
       "      <td>256.78</td>\n",
       "    </tr>\n",
       "    <tr>\n",
       "      <th>4</th>\n",
       "      <td>136282</td>\n",
       "      <td>109900</td>\n",
       "      <td>3</td>\n",
       "      <td>1</td>\n",
       "      <td>1249</td>\n",
       "      <td>87.99</td>\n",
       "    </tr>\n",
       "  </tbody>\n",
       "</table>\n",
       "</div>"
      ],
      "text/plain": [
       "     MPLS   Price  Bedrooms  Bathrooms  Size  PriceSq\n",
       "0  132842  795000         3          3  2371   335.30\n",
       "1  134364  399000         4          3  2818   141.59\n",
       "2  135141  545000         4          3  3032   179.75\n",
       "3  135712  909000         4          4  3540   256.78\n",
       "4  136282  109900         3          1  1249    87.99"
      ]
     },
     "execution_count": 2,
     "metadata": {},
     "output_type": "execute_result"
    }
   ],
   "source": [
    "import numpy as np\n",
    "import pandas as pd\n",
    "import numpy.matlib\n",
    "import matplotlib.pyplot as plt\n",
    "\n",
    "# read dataset\n",
    "df = pd.read_csv(\"housing_price_data.csv\")\n",
    "\n",
    "df.head()"
   ]
  },
  {
   "cell_type": "code",
   "execution_count": 3,
   "metadata": {
    "scrolled": true
   },
   "outputs": [
    {
     "data": {
      "image/png": "[encoded data removed]",
      "text/plain": [
       "<Figure size 432x288 with 1 Axes>"
      ]
     },
     "metadata": {},
     "output_type": "display_data"
    }
   ],
   "source": [
    "# Plot data points\n",
    "X, y = (df[\"Size\"].values,df[\"Price\"].values)\n",
    "X = X.reshape(len(X),1)\n",
    "y = y.reshape(len(y),1)\n",
    "\n",
    "# plots the data points\n",
    "plt.plot(X, y, 'ro')\n",
    "plt.xlabel(\"# Square footage\")\n",
    "plt.ylabel(\"Price\")\n",
    "plt.show()"
   ]
  },
  {
   "cell_type": "code",
   "execution_count": 4,
   "metadata": {},
   "outputs": [],
   "source": [
    "# Normalize the house size, e.g., divide by (mx-min) to ensure the scale is compatible with the bias, which is 1\n",
    "normalize = X.max(0) - X.min(0)\n",
    "X =  X / normalize\n",
    "\n",
    "# Add bias\n",
    "z = np.ones((len(X),1)) \n",
    "X = X.reshape(len(X),1)\n",
    "X = np.concatenate((z,X), axis=1)                \n",
    "y = y.reshape(len(X),1) \n",
    "\n",
    "# sort for testing/plotting\n",
    "Xsort = np.sort(X, axis=0)"
   ]
  },
  {
   "cell_type": "markdown",
   "metadata": {},
   "source": [
    "## Perform gradient descent"
   ]
  },
  {
   "cell_type": "code",
   "execution_count": 7,
   "metadata": {},
   "outputs": [
    {
     "name": "stdout",
     "output_type": "stream",
     "text": [
      "[[0.91852999]\n",
      " [0.02001192]]\n",
      "[4.75179325]\n",
      "[0.66735811]\n",
      "[[4.56013105 0.56002289]\n",
      " [4.56013105 0.56002289]\n",
      " [4.56013105 0.56002289]]\n"
     ]
    }
   ],
   "source": [
    "# Initialize vector w \n",
    "w = np.random.rand(2,1)\n",
    "print(w)\n",
    "\n",
    "# Learning rate \n",
    "# made nu much smaller than .01, my method did not converge at .01\n",
    "nu = 0.0000005\n",
    "\n",
    "# Number of iterations \n",
    "MAX_ITR = 20\n",
    "\n",
    "mse = []         \n",
    "\n",
    "l = len(y)\n",
    "\n",
    "\n",
    "# Loop for 2000 iterations\n",
    "for itr in range (0, MAX_ITR):\n",
    "    # Form W matrix -- this is to avoid having another for loop but if you don't to use it, thats ok\n",
    "    W = (np.matlib.repmat(w.transpose(),3,1))   # 781x2\n",
    "    \n",
    "    msesigma = 0 \n",
    "    sigma0 = 0\n",
    "    sigma1 = 0\n",
    "    \n",
    "    # TO DO: write update equation\n",
    "    #need to multiply every xi, yi value with w, then set temporary variable to the prev value times the sum\n",
    "\n",
    "    #find the sigma term for w0, w1, and also for mse to save time later\n",
    "    for i in range(0, len(df[\"Size\"])):\n",
    "        sigma0 = sigma0 + (w[0] + w[1] * X[i][1] - y[i])\n",
    "        sigma1 = sigma1 + (w[0] + w[1] * X[i][1] - y[i])* w[1]\n",
    "        msesigma = msesigma + (w[0] + w[1] * X[i][1] - y[i]) ** 2\n",
    "            \n",
    "            \n",
    "    #update the w0 and w1 after sigma is calculated\n",
    "    w0temp = w[0] - (nu/l) * sigma0\n",
    "    w1temp = w[1] - (nu/l) * sigma1\n",
    "    \n",
    "   # print(w[1])\n",
    "    \n",
    "    w[0] = w0temp\n",
    "    w[1] = w1temp\n",
    "    \n",
    "    \n",
    "    # TO DO: find predicted value yhat and compute MSE   \n",
    "    #add the mse term using the calculated mse sigma above\n",
    "    mse.append((1/(2 * l)) * msesigma)\n",
    "    \n",
    "\n",
    "    \n",
    "    \n",
    "\n",
    "\n",
    "# final w[0], w[1] after 2000 iterations of updating:\n",
    "print(w[0])\n",
    "print(w[1])\n",
    "    \n",
    "print(W)"
   ]
  },
  {
   "cell_type": "code",
   "execution_count": 5,
   "metadata": {},
   "outputs": [
    {
     "data": {
      "image/png": "[encoded data removed]",
      "text/plain": [
       "<Figure size 432x288 with 1 Axes>"
      ]
     },
     "metadata": {},
     "output_type": "display_data"
    }
   ],
   "source": [
    "### Plot MSE vs iterations\n",
    "plt.plot(mse)  #\n",
    "plt.xlabel(\"Iterations\")\n",
    "plt.ylabel(\"MSE\")\n",
    "plt.show()"
   ]
  },
  {
   "cell_type": "code",
   "execution_count": 6,
   "metadata": {},
   "outputs": [
    {
     "data": {
      "image/png": "[encoded data removed]",
      "text/plain": [
       "<Figure size 432x288 with 1 Axes>"
      ]
     },
     "metadata": {},
     "output_type": "display_data"
    }
   ],
   "source": [
    "### Plot the fitted curve\n",
    "\n",
    "yhat = np.dot(np.sort(X, axis=0),w)\n",
    "\n",
    "plt.plot(X[:,1] * normalize, y, 'ro')\n",
    "plt.plot(Xsort[:,1] *normalize , yhat, 'b', label=\"Gradient descent\")\n",
    "plt.legend()\n",
    "plt.xlabel(\"# Square footage\")\n",
    "plt.ylabel(\"Price\")\n",
    "plt.show()\n"
   ]
  },
  {
   "cell_type": "code",
   "execution_count": null,
   "metadata": {},
   "outputs": [],
   "source": []
  }
 ],
 "metadata": {
  "kernelspec": {
   "display_name": "Python 3",
   "language": "python",
   "name": "python3"
  },
  "language_info": {
   "codemirror_mode": {
    "name": "ipython",
    "version": 3
   },
   "file_extension": ".py",
   "mimetype": "text/x-python",
   "name": "python",
   "nbconvert_exporter": "python",
   "pygments_lexer": "ipython3",
   "version": "3.6.6"
  }
 },
 "nbformat": 4,
 "nbformat_minor": 2
}
