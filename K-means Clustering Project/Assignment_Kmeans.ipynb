{
 "cells": [
  {
   "cell_type": "markdown",
   "metadata": {},
   "source": [
    "# K-means Clustering Algorithm\n",
    "\n",
    "You will implement the K-means unsupervised learning algorithm.\n",
    "\n",
    "Use the simplified Iris dataset provided to test your code.\n",
    "\n",
    "Column 1: sepal length.\n",
    "Column 2: sepal width\n",
    "\n",
    "50 samples for setosa, 50 samples for versicolor\n",
    "\n",
    "   \n"
   ]
  },
  {
   "cell_type": "code",
   "execution_count": 1,
   "metadata": {},
   "outputs": [
    {
     "name": "stdout",
     "output_type": "stream",
     "text": [
      "(100, 2)\n"
     ]
    },
    {
     "data": {
      "image/png": "[encoded data removed]",
      "text/plain": [
       "<Figure size 432x288 with 1 Axes>"
      ]
     },
     "metadata": {},
     "output_type": "display_data"
    }
   ],
   "source": [
    "# Load dataset and plot it\n",
    "\n",
    "%matplotlib inline\n",
    "import math\n",
    "import numpy as np\n",
    "import pandas as pd\n",
    "from copy import deepcopy\n",
    "from matplotlib import pyplot as plt\n",
    "\n",
    "df = pd.read_csv('simple_iris_dataset.csv')\n",
    "\n",
    "df1 = df['sepal_length'].values\n",
    "df2 = df['sepal_width'].values\n",
    "X = np.array(list(zip(df1, df2)))   # 100 x 2\n",
    "plt.scatter(df1, df2, c='black', s=7)\n",
    "print(X.shape)"
   ]
  },
  {
   "cell_type": "code",
   "execution_count": 2,
   "metadata": {},
   "outputs": [
    {
     "name": "stdout",
     "output_type": "stream",
     "text": [
      "(2, 2)\n",
      "\n",
      "Algorithm converges after 6 iterations\n"
     ]
    }
   ],
   "source": [
    "# Initialize - take 2 random samples from data set\n",
    "k = 2\n",
    "N = len(X)\n",
    "ctr1 = X[(np.random.randint(0,N)),:]\n",
    "ctr2 = X[(np.random.randint(0,N)),:]\n",
    "C = np.array(list(zip(ctr1, ctr2)), dtype=np.float32)  # 2x2\n",
    "\n",
    "print(C.shape)\n",
    "print()\n",
    "\n",
    "#print(\"sum of centers\")\n",
    "#print(C.sum(axis= 0))\n",
    "#print()\n",
    "\n",
    "# Stores the value of old centroids\n",
    "C_old = np.zeros(C.shape)\n",
    "\n",
    "cluster1 = []\n",
    "cluster2 = []\n",
    "\n",
    "# Cluster indices\n",
    "clusters = np.zeros(len(X))\n",
    "\n",
    "MAX_ITR = 100\n",
    "# Loop till convergence, i.e., centroids do not change anymore\n",
    "# or until raching MAX_ITR\n",
    "\n",
    "for itr in range(0,MAX_ITR):\n",
    "    \n",
    "    #print()\n",
    "    #print(\"iteration \", itr)\n",
    "    #print(\"Centers:\")\n",
    "    #print(C)\n",
    "    #print(\"distance to pt 0: \", math.sqrt((C[0][0] - X[i][0]) ** 2 + (C[0][1] - X[i][1]) ** 2))\n",
    "    #print(\"distance to pt 1: \", math.sqrt((C[1][0] - X[i][0]) ** 2 + (C[1][1] - X[i][1]) ** 2))\n",
    "    \n",
    "    cluster1.clear()\n",
    "    cluster2.clear()\n",
    "    \n",
    "    # TO DO: Assign each data point to its closest cluster\n",
    "    for i in range (0, N):\n",
    "        \n",
    "        if (math.sqrt((C[0][0] - X[i][0]) ** 2 + (C[0][1] - X[i][1]) ** 2) <          #if X[i] is closer to C[0]\n",
    "            math.sqrt((C[1][0] - X[i][0]) ** 2 + (C[1][1] - X[i][1]) ** 2)):          \n",
    "            clusters[i] = 0\n",
    "            cluster1.append(X[i]) \n",
    "        else:                                                                         #else X[i] is closer to C[1]\n",
    "            clusters[i] = 1  \n",
    "            cluster2.append(X[i])\n",
    "      \n",
    "    \n",
    "    # TO DO: Store old centroid values\n",
    "    # Hint: use 'deepcopy' since assignment statements in Python do not copy objects \n",
    "    # (they create bindings between a target and an object)\n",
    "    # Example: C_old = deepcopy(C)\n",
    "    #store old values of C in C_old\n",
    "    C_old = deepcopy(C)\n",
    "    \n",
    "    \n",
    "    # TO DO: Update the location of centroids by taking the average value\n",
    "    \n",
    "    clust1 = np.asarray(cluster1)\n",
    "    clust2 = np.asarray(cluster2)\n",
    "\n",
    "    #sum the columns of the points then divides each element by the length \n",
    "    ctr1 = (clust1.sum(axis= 0)) / len(clust1)\n",
    "    ctr2 = (clust2.sum(axis= 0)) / len(clust2)\n",
    "    \n",
    "\n",
    "    C[0] = ctr1\n",
    "    C[1] = ctr2  \n",
    "    \n",
    "    #print(\"new C:\")\n",
    "    #print(C)\n",
    "    \n",
    "    # TO DO: Algorithm converges if distance between new and old centroids is 0\n",
    "    if np.array_equal(C,C_old):\n",
    "        #print(\"equal old and new. break from loop\")\n",
    "        break\n",
    "    \n",
    "\n",
    "print('Algorithm converges after {} iterations'. format(itr))"
   ]
  },
  {
   "cell_type": "code",
   "execution_count": 7,
   "metadata": {},
   "outputs": [
    {
     "name": "stdout",
     "output_type": "stream",
     "text": [
      "b\n",
      "c\n"
     ]
    },
    {
     "data": {
      "image/png": "[encoded data removed]",
      "text/plain": [
       "<Figure size 432x288 with 1 Axes>"
      ]
     },
     "metadata": {},
     "output_type": "display_data"
    }
   ],
   "source": [
    "# Plot the results\n",
    "def plot_clusters(X, clusters, centroids):\n",
    "    \"\"\"\n",
    "      X : 100x2 data matrix\n",
    "      clusters: 100x1 vector indicating the cluster assignment of each data point\n",
    "      centroids: 2x2 matrix, the row contains the coordinate of the centroid \n",
    "    \"\"\"\n",
    "    colors = ['m', 'c', 'b', 'y', 'r', 'g']\n",
    "    k,_ = np.shape(C)\n",
    "\n",
    "    fig, ax = plt.subplots()\n",
    "    for i in range(k):\n",
    "        print(colors[i])\n",
    "        points = np.array([X[j] for j in range(len(X)) if clusters[j] == i])\n",
    "        plt.scatter(points[:, 0], points[:, 1], s=7, c=colors[i])\n",
    "        #ax.scatter(points[:, 0], points[:, 1], s=7, c=colors[i])\n",
    "\n",
    "    plt.scatter(C[:,0], C[:,1], marker='*', s=150, c='y')\n",
    "    \n",
    "plot_clusters(X, clusters, C)"
   ]
  },
  {
   "cell_type": "code",
   "execution_count": null,
   "metadata": {},
   "outputs": [],
   "source": []
  }
 ],
 "metadata": {
  "anaconda-cloud": {},
  "kernelspec": {
   "display_name": "Python 3",
   "language": "python",
   "name": "python3"
  },
  "language_info": {
   "codemirror_mode": {
    "name": "ipython",
    "version": 3
   },
   "file_extension": ".py",
   "mimetype": "text/x-python",
   "name": "python",
   "nbconvert_exporter": "python",
   "pygments_lexer": "ipython3",
   "version": "3.6.5"
  }
 },
 "nbformat": 4,
 "nbformat_minor": 1
}
